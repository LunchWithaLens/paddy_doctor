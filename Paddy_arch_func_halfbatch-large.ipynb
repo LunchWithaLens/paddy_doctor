{
 "cells": [
  {
   "cell_type": "markdown",
   "id": "5262f6e2-4bd3-404a-87d8-28b2c6c63568",
   "metadata": {},
   "source": [
    "At the end of this notebook, we will have submitted to the [\"Paddy Doctor: Paddy Disease Classification\" competition on Kaggle](https://www.kaggle.com/competitions/paddy-disease-classification/overview)!\n",
    "\n",
    "Let us begin by downloading the data."
   ]
  },
  {
   "cell_type": "code",
   "execution_count": 13,
   "id": "29285eea-16a5-47d7-936a-83dc26688e82",
   "metadata": {},
   "outputs": [
    {
     "name": "stdout",
     "output_type": "stream",
     "text": [
      "Reading package lists...\n",
      "Building dependency tree...\n",
      "Reading state information...\n",
      "unzip is already the newest version (6.0-21ubuntu1.1).\n",
      "0 upgraded, 0 newly installed, 0 to remove and 43 not upgraded.\n"
     ]
    },
    {
     "name": "stderr",
     "output_type": "stream",
     "text": [
      "\n",
      "WARNING: apt does not have a stable CLI interface. Use with caution in scripts.\n",
      "\n"
     ]
    }
   ],
   "source": [
    "%%bash\n",
    "\n",
    "exec bash\n",
    "# rm -rf data\n",
    "# mkdir data\n",
    "apt install unzip\n"
   ]
  },
  {
   "cell_type": "code",
   "execution_count": 1,
   "id": "c98a70a1-b120-4ea4-9840-3dd9b79a2180",
   "metadata": {},
   "outputs": [
    {
     "name": "stdout",
     "output_type": "stream",
     "text": [
      "Requirement already satisfied: timm in /opt/conda/lib/python3.7/site-packages (0.5.4)\n",
      "Requirement already satisfied: torchvision in /opt/conda/lib/python3.7/site-packages (from timm) (0.11.0)\n",
      "Requirement already satisfied: torch>=1.4 in /opt/conda/lib/python3.7/site-packages (from timm) (1.10.0)\n",
      "Requirement already satisfied: typing_extensions in /opt/conda/lib/python3.7/site-packages (from torch>=1.4->timm) (3.10.0.2)\n",
      "Requirement already satisfied: numpy in /opt/conda/lib/python3.7/site-packages (from torchvision->timm) (1.21.2)\n",
      "Requirement already satisfied: pillow!=8.3.0,>=5.3.0 in /opt/conda/lib/python3.7/site-packages (from torchvision->timm) (8.4.0)\n",
      "Note: you may need to restart the kernel to use updated packages.\n"
     ]
    }
   ],
   "source": [
    "pip install -U timm"
   ]
  },
  {
   "cell_type": "code",
   "execution_count": 15,
   "id": "4e350958-6493-4f35-b96b-75d9557837f5",
   "metadata": {},
   "outputs": [
    {
     "name": "stdout",
     "output_type": "stream",
     "text": [
      "paddy-disease-classification.zip: Skipping, found more recently modified local copy (use --force to force download)\n"
     ]
    }
   ],
   "source": [
    "!cd data && kaggle competitions download -c paddy-disease-classification && unzip -q paddy-disease-classification.zip"
   ]
  },
  {
   "cell_type": "code",
   "execution_count": 2,
   "id": "39827f00-23cd-4209-9bef-a9fa42f45f26",
   "metadata": {},
   "outputs": [],
   "source": [
    "import timm"
   ]
  },
  {
   "cell_type": "markdown",
   "id": "737bbc34-b0ea-4137-8260-a48d2c3fc156",
   "metadata": {},
   "source": [
    "We have now downloaded and extracted the data to the `data` directory."
   ]
  },
  {
   "cell_type": "code",
   "execution_count": 3,
   "id": "b7b72c68-b566-4e58-b235-3cefb216fd07",
   "metadata": {},
   "outputs": [
    {
     "name": "stdout",
     "output_type": "stream",
     "text": [
      "paddy-disease-classification.zip  \u001b[0m\u001b[01;34msubmissions\u001b[0m/  train.csv\n",
      "sample_submission.csv             \u001b[01;34mtest_images\u001b[0m/  \u001b[01;34mtrain_images\u001b[0m/\n"
     ]
    }
   ],
   "source": [
    "ls data"
   ]
  },
  {
   "cell_type": "code",
   "execution_count": 4,
   "id": "dd4b5884-0d0b-4383-b808-0faf2e37d5f7",
   "metadata": {},
   "outputs": [
    {
     "name": "stdout",
     "output_type": "stream",
     "text": [
      "\u001b[0m\u001b[01;34mbacterial_leaf_blight\u001b[0m/     \u001b[01;34mblast\u001b[0m/                       \u001b[01;34mdead_heart\u001b[0m/    \u001b[01;34mnormal\u001b[0m/\n",
      "\u001b[01;34mbacterial_leaf_streak\u001b[0m/     \u001b[01;34mbrown_spot\u001b[0m/                  \u001b[01;34mdowny_mildew\u001b[0m/  \u001b[01;34mtungro\u001b[0m/\n",
      "\u001b[01;34mbacterial_panicle_blight\u001b[0m/  convnext_large_in22k_squish  \u001b[01;34mhispa\u001b[0m/\n"
     ]
    }
   ],
   "source": [
    "ls data/train_images"
   ]
  },
  {
   "cell_type": "code",
   "execution_count": 5,
   "id": "1dd5e464-289d-43db-8062-1cd8d645ecd1",
   "metadata": {},
   "outputs": [
    {
     "name": "stdout",
     "output_type": "stream",
     "text": [
      "200001.jpg\n",
      "200002.jpg\n",
      "200003.jpg\n",
      "200004.jpg\n",
      "200005.jpg\n",
      "200006.jpg\n",
      "200007.jpg\n",
      "200008.jpg\n",
      "200009.jpg\n",
      "200010.jpg\n",
      "ls: write error: Broken pipe\n"
     ]
    }
   ],
   "source": [
    "ls data/test_images | head"
   ]
  },
  {
   "cell_type": "markdown",
   "id": "8ff65134-19f9-4dea-988d-25b95b3183bb",
   "metadata": {},
   "source": [
    "Seems that the train data is organized by directories, with the name of the directory being the label.\n",
    "\n",
    "Test images just live in `data/test_images`\n",
    "\n",
    "Let us see what is the format of the sample submission file to have a full picture."
   ]
  },
  {
   "cell_type": "code",
   "execution_count": 6,
   "id": "dd2493c2-1f74-459e-9bdc-80b9e10fbea0",
   "metadata": {},
   "outputs": [
    {
     "data": {
      "text/html": [
       "<div>\n",
       "<style scoped>\n",
       "    .dataframe tbody tr th:only-of-type {\n",
       "        vertical-align: middle;\n",
       "    }\n",
       "\n",
       "    .dataframe tbody tr th {\n",
       "        vertical-align: top;\n",
       "    }\n",
       "\n",
       "    .dataframe thead th {\n",
       "        text-align: right;\n",
       "    }\n",
       "</style>\n",
       "<table border=\"1\" class=\"dataframe\">\n",
       "  <thead>\n",
       "    <tr style=\"text-align: right;\">\n",
       "      <th></th>\n",
       "      <th>image_id</th>\n",
       "      <th>label</th>\n",
       "    </tr>\n",
       "  </thead>\n",
       "  <tbody>\n",
       "    <tr>\n",
       "      <th>0</th>\n",
       "      <td>200001.jpg</td>\n",
       "      <td>NaN</td>\n",
       "    </tr>\n",
       "    <tr>\n",
       "      <th>1</th>\n",
       "      <td>200002.jpg</td>\n",
       "      <td>NaN</td>\n",
       "    </tr>\n",
       "    <tr>\n",
       "      <th>2</th>\n",
       "      <td>200003.jpg</td>\n",
       "      <td>NaN</td>\n",
       "    </tr>\n",
       "    <tr>\n",
       "      <th>3</th>\n",
       "      <td>200004.jpg</td>\n",
       "      <td>NaN</td>\n",
       "    </tr>\n",
       "    <tr>\n",
       "      <th>4</th>\n",
       "      <td>200005.jpg</td>\n",
       "      <td>NaN</td>\n",
       "    </tr>\n",
       "  </tbody>\n",
       "</table>\n",
       "</div>"
      ],
      "text/plain": [
       "     image_id  label\n",
       "0  200001.jpg    NaN\n",
       "1  200002.jpg    NaN\n",
       "2  200003.jpg    NaN\n",
       "3  200004.jpg    NaN\n",
       "4  200005.jpg    NaN"
      ]
     },
     "execution_count": 6,
     "metadata": {},
     "output_type": "execute_result"
    }
   ],
   "source": [
    "import pandas as pd\n",
    "\n",
    "sample_sub = pd.read_csv('data/sample_submission.csv')\n",
    "sample_sub.head()"
   ]
  },
  {
   "cell_type": "markdown",
   "id": "e332bc06-ad58-4406-a6b8-4ccd363e9780",
   "metadata": {},
   "source": [
    "Mhmm. Guessing the labels for the submission are the names of the directories.\n",
    "\n",
    "Ok, let's start training!"
   ]
  },
  {
   "cell_type": "code",
   "execution_count": 7,
   "id": "f633cd8b-889e-44c7-bd5a-8c5cfc6f9e61",
   "metadata": {},
   "outputs": [],
   "source": [
    "from fastai.vision.all import *\n",
    "from fastcore.parallel import *"
   ]
  },
  {
   "cell_type": "code",
   "execution_count": 8,
   "id": "d9488140-2fe0-41d2-a177-e4e4ac100832",
   "metadata": {},
   "outputs": [],
   "source": [
    "path = Path('data')\n",
    "trn_path= path/'train_images'\n",
    "tst_files = get_image_files(path/'test_images').sorted()"
   ]
  },
  {
   "cell_type": "code",
   "execution_count": 9,
   "id": "9f3ae06b-438a-4ed0-ac85-127af9556328",
   "metadata": {},
   "outputs": [],
   "source": [
    "tta_res = []"
   ]
  },
  {
   "cell_type": "code",
   "execution_count": 10,
   "id": "e546f377-75b1-49fa-8ea0-b5d25bd710c1",
   "metadata": {},
   "outputs": [
    {
     "data": {
      "text/plain": [
       "Path('.')"
      ]
     },
     "execution_count": 10,
     "metadata": {},
     "output_type": "execute_result"
    }
   ],
   "source": [
    "Path()"
   ]
  },
  {
   "cell_type": "code",
   "execution_count": 11,
   "id": "dceea622-0d50-4e54-9ea0-1b500641d04b",
   "metadata": {},
   "outputs": [],
   "source": [
    "def train(desc, arch, item, batch, accum=False):\n",
    "    kwargs = {'bs':32} if accum else{}\n",
    "    dls = ImageDataLoaders.from_folder(trn_path, seed=42, valid_pct=0.2, item_tfms=item, batch_tfms=batch, **kwargs)\n",
    "    cbs = GradientAccumulation(2) if accum else []\n",
    "    learn = vision_learner(dls, arch, metrics=error_rate, cbs=cbs).to_fp16()\n",
    "    learn.fine_tune(12, 0.01)\n",
    "    tta_res.append(learn.tta(dl=dls.test_dl(tst_files)))\n",
    "    learn.export(f'{arch}_{desc}')\n",
    "    "
   ]
  },
  {
   "cell_type": "code",
   "execution_count": 12,
   "id": "fb5c81a4-e158-439c-94c0-1925ea0cacb1",
   "metadata": {},
   "outputs": [],
   "source": [
    "arch = 'convnext_base_in22k'"
   ]
  },
  {
   "cell_type": "code",
   "execution_count": null,
   "id": "738aa283-2673-482b-af05-6e4c815caa87",
   "metadata": {},
   "outputs": [
    {
     "name": "stderr",
     "output_type": "stream",
     "text": [
      "Downloading: \"https://dl.fbaipublicfiles.com/convnext/convnext_base_22k_224.pth\" to /root/.cache/torch/hub/checkpoints/convnext_base_22k_224.pth\n"
     ]
    },
    {
     "data": {
      "text/html": [
       "<table border=\"1\" class=\"dataframe\">\n",
       "  <thead>\n",
       "    <tr style=\"text-align: left;\">\n",
       "      <th>epoch</th>\n",
       "      <th>train_loss</th>\n",
       "      <th>valid_loss</th>\n",
       "      <th>error_rate</th>\n",
       "      <th>time</th>\n",
       "    </tr>\n",
       "  </thead>\n",
       "  <tbody>\n",
       "    <tr>\n",
       "      <td>0</td>\n",
       "      <td>1.160089</td>\n",
       "      <td>0.802747</td>\n",
       "      <td>0.245555</td>\n",
       "      <td>03:08</td>\n",
       "    </tr>\n",
       "  </tbody>\n",
       "</table>"
      ],
      "text/plain": [
       "<IPython.core.display.HTML object>"
      ]
     },
     "metadata": {},
     "output_type": "display_data"
    },
    {
     "data": {
      "text/html": [
       "\n",
       "    <div>\n",
       "        <style>\n",
       "            /* Turns off some styling */\n",
       "            progress {\n",
       "                /* gets rid of default border in Firefox and Opera. */\n",
       "                border: none;\n",
       "                /* Needs to be in here for Safari polyfill so background images work as expected. */\n",
       "                background-size: auto;\n",
       "            }\n",
       "            .progress-bar-interrupted, .progress-bar-interrupted::-webkit-progress-bar {\n",
       "                background: #F44336;\n",
       "            }\n",
       "        </style>\n",
       "      <progress value='4' class='' max='12' style='width:300px; height:20px; vertical-align: middle;'></progress>\n",
       "      33.33% [4/12 16:55<33:50]\n",
       "    </div>\n",
       "    \n",
       "<table border=\"1\" class=\"dataframe\">\n",
       "  <thead>\n",
       "    <tr style=\"text-align: left;\">\n",
       "      <th>epoch</th>\n",
       "      <th>train_loss</th>\n",
       "      <th>valid_loss</th>\n",
       "      <th>error_rate</th>\n",
       "      <th>time</th>\n",
       "    </tr>\n",
       "  </thead>\n",
       "  <tbody>\n",
       "    <tr>\n",
       "      <td>0</td>\n",
       "      <td>0.527000</td>\n",
       "      <td>0.306593</td>\n",
       "      <td>0.094666</td>\n",
       "      <td>04:13</td>\n",
       "    </tr>\n",
       "    <tr>\n",
       "      <td>1</td>\n",
       "      <td>0.436395</td>\n",
       "      <td>0.310901</td>\n",
       "      <td>0.100913</td>\n",
       "      <td>04:14</td>\n",
       "    </tr>\n",
       "    <tr>\n",
       "      <td>2</td>\n",
       "      <td>0.394772</td>\n",
       "      <td>0.370982</td>\n",
       "      <td>0.111004</td>\n",
       "      <td>04:13</td>\n",
       "    </tr>\n",
       "    <tr>\n",
       "      <td>3</td>\n",
       "      <td>0.368796</td>\n",
       "      <td>0.294651</td>\n",
       "      <td>0.086016</td>\n",
       "      <td>04:13</td>\n",
       "    </tr>\n",
       "  </tbody>\n",
       "</table><p>\n",
       "\n",
       "    <div>\n",
       "        <style>\n",
       "            /* Turns off some styling */\n",
       "            progress {\n",
       "                /* gets rid of default border in Firefox and Opera. */\n",
       "                border: none;\n",
       "                /* Needs to be in here for Safari polyfill so background images work as expected. */\n",
       "                background-size: auto;\n",
       "            }\n",
       "            .progress-bar-interrupted, .progress-bar-interrupted::-webkit-progress-bar {\n",
       "                background: #F44336;\n",
       "            }\n",
       "        </style>\n",
       "      <progress value='185' class='' max='260' style='width:300px; height:20px; vertical-align: middle;'></progress>\n",
       "      71.15% [185/260 02:45<01:07 0.2407]\n",
       "    </div>\n",
       "    "
      ],
      "text/plain": [
       "<IPython.core.display.HTML object>"
      ]
     },
     "metadata": {},
     "output_type": "display_data"
    }
   ],
   "source": [
    "train('squish', arch, item=Resize(480, method='squish'), batch=aug_transforms(size=224, min_scale=0.75), accum=True)"
   ]
  },
  {
   "cell_type": "code",
   "execution_count": null,
   "id": "df076088-dfc8-4673-af8c-21ed77caf2b7",
   "metadata": {},
   "outputs": [],
   "source": [
    "save_pickle('tta_res.pkl', tta_res)\n",
    "tta_prs = first(zip(*tta_res))"
   ]
  },
  {
   "cell_type": "code",
   "execution_count": null,
   "id": "10f5e4ca-9d00-4e2c-9b73-b9bebc02a881",
   "metadata": {},
   "outputs": [],
   "source": [
    "tta_prs += tta_prs[3:5]"
   ]
  },
  {
   "cell_type": "code",
   "execution_count": null,
   "id": "bcdceb10-f841-4474-9048-e7bf194134f2",
   "metadata": {},
   "outputs": [],
   "source": [
    "t_tta = torch.stack(tta_prs)"
   ]
  },
  {
   "cell_type": "code",
   "execution_count": null,
   "id": "b58f957d-7093-4478-8bc2-9481f6c9d10b",
   "metadata": {},
   "outputs": [],
   "source": [
    "avg_pr = t_tta.mean(0)\n",
    "idvs = avg_pr.argmax(dim=1)\n",
    "idxs.shape"
   ]
  },
  {
   "cell_type": "code",
   "execution_count": null,
   "id": "2690eb85-d97e-4a8c-91a9-e3f7818be6f5",
   "metadata": {},
   "outputs": [],
   "source": [
    "dls = ImageDataLoader.from_folder(trn_path, valid_pct=0.2, item_tfms=Resize(224))\n",
    "mapping = dict(enumerate(dls.vocab))\n",
    "ss = pd.read_csv('sample_submission.csv')\n",
    "results = pd.Series(idxs.numpy(), name='idxs').map(mapping)\n",
    "ss.label = results\n",
    "ss.to_csv('subm.csv', index=Fales)"
   ]
  },
  {
   "cell_type": "code",
   "execution_count": 32,
   "id": "90ec0c02-eba4-4d7e-b7ab-a2c6c4ae1b67",
   "metadata": {},
   "outputs": [
    {
     "name": "stdout",
     "output_type": "stream",
     "text": [
      "Warning: Your Kaggle API key is readable by other users on this system! To fix this, you can run 'chmod 600 /root/.kaggle/kaggle.json'\n",
      "Traceback (most recent call last):\n",
      "  File \"/root/.local/bin/kaggle\", line 8, in <module>\n",
      "    sys.exit(main())\n",
      "  File \"/root/.local/lib/python3.7/site-packages/kaggle/cli.py\", line 67, in main\n",
      "    out = args.func(**command_args)\n",
      "  File \"/root/.local/lib/python3.7/site-packages/kaggle/api/kaggle_api_extended.py\", line 562, in competition_submit_cli\n",
      "    competition, quiet)\n",
      "  File \"/root/.local/lib/python3.7/site-packages/kaggle/api/kaggle_api_extended.py\", line 513, in competition_submit\n",
      "    content_length=os.path.getsize(file_name),\n",
      "  File \"/opt/conda/lib/python3.7/genericpath.py\", line 50, in getsize\n",
      "    return os.stat(filename).st_size\n",
      "FileNotFoundError: [Errno 2] No such file or directory: 'data/submissions/brismith_sub1.csv.gz'\n"
     ]
    }
   ],
   "source": [
    "!kaggle competitions submit -c paddy-disease-classification -f data/submissions/subm.csv -m \"4th Sub\""
   ]
  },
  {
   "cell_type": "code",
   "execution_count": 33,
   "id": "cf21648a-dc1c-4086-a43a-b76c03bf76d3",
   "metadata": {},
   "outputs": [
    {
     "name": "stdout",
     "output_type": "stream",
     "text": [
      "Warning: Your Kaggle API key is readable by other users on this system! To fix this, you can run 'chmod 600 /root/.kaggle/kaggle.json'\n",
      "100%|██████████████████████████████████████| 11.7k/11.7k [00:00<00:00, 24.9kB/s]\n",
      "Successfully submitted to Paddy Doctor: Paddy Disease Classification"
     ]
    }
   ],
   "source": [
    "!kaggle competitions submit -c paddy-disease-classification -f data/submissions/brismith_sub2_vit.csv.gz -m \"2nd sub vit walkthru11\""
   ]
  },
  {
   "cell_type": "code",
   "execution_count": null,
   "id": "bc0d4604-d9ae-42ec-b9c2-8d1e492d1100",
   "metadata": {},
   "outputs": [],
   "source": []
  }
 ],
 "metadata": {
  "kernelspec": {
   "display_name": "Python 3 (ipykernel)",
   "language": "python",
   "name": "python3"
  },
  "language_info": {
   "codemirror_mode": {
    "name": "ipython",
    "version": 3
   },
   "file_extension": ".py",
   "mimetype": "text/x-python",
   "name": "python",
   "nbconvert_exporter": "python",
   "pygments_lexer": "ipython3",
   "version": "3.7.11"
  }
 },
 "nbformat": 4,
 "nbformat_minor": 5
}
