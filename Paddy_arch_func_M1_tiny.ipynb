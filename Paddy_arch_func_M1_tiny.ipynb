{
 "cells": [
  {
   "cell_type": "markdown",
   "id": "5262f6e2-4bd3-404a-87d8-28b2c6c63568",
   "metadata": {},
   "source": [
    "At the end of this notebook, we will have submitted to the [\"Paddy Doctor: Paddy Disease Classification\" competition on Kaggle](https://www.kaggle.com/competitions/paddy-disease-classification/overview)!\n",
    "\n",
    "Let us begin by downloading the data."
   ]
  },
  {
   "cell_type": "code",
   "execution_count": 13,
   "id": "29285eea-16a5-47d7-936a-83dc26688e82",
   "metadata": {},
   "outputs": [
    {
     "name": "stdout",
     "output_type": "stream",
     "text": [
      "Reading package lists...\n",
      "Building dependency tree...\n",
      "Reading state information...\n",
      "unzip is already the newest version (6.0-21ubuntu1.1).\n",
      "0 upgraded, 0 newly installed, 0 to remove and 43 not upgraded.\n"
     ]
    },
    {
     "name": "stderr",
     "output_type": "stream",
     "text": [
      "\n",
      "WARNING: apt does not have a stable CLI interface. Use with caution in scripts.\n",
      "\n"
     ]
    }
   ],
   "source": [
    "%%bash\n",
    "\n",
    "exec bash\n",
    "# rm -rf data\n",
    "# mkdir data\n",
    "apt install unzip\n"
   ]
  },
  {
   "cell_type": "code",
   "execution_count": 2,
   "id": "c98a70a1-b120-4ea4-9840-3dd9b79a2180",
   "metadata": {},
   "outputs": [
    {
     "name": "stdout",
     "output_type": "stream",
     "text": [
      "Requirement already satisfied: timm==0.6.2dev in /Users/bsmi067/mambaforge/lib/python3.9/site-packages (0.6.2.dev0)\n",
      "Collecting torchvision\n",
      "  Downloading torchvision-0.12.0-cp39-cp39-macosx_11_0_arm64.whl (1.2 MB)\n",
      "\u001b[2K     \u001b[90m━━━━━━━━━━━━━━━━━━━━━━━━━━━━━━━━━━━━━━━━\u001b[0m \u001b[32m1.2/1.2 MB\u001b[0m \u001b[31m13.0 MB/s\u001b[0m eta \u001b[36m0:00:00\u001b[0m00:01\u001b[0m00:01\u001b[0m\n",
      "\u001b[?25hRequirement already satisfied: torch>=1.4 in /Users/bsmi067/mambaforge/lib/python3.9/site-packages (from timm==0.6.2dev) (1.11.0.post2)\n",
      "Requirement already satisfied: typing-extensions in /Users/bsmi067/mambaforge/lib/python3.9/site-packages (from torch>=1.4->timm==0.6.2dev) (4.2.0)\n",
      "Requirement already satisfied: requests in /Users/bsmi067/mambaforge/lib/python3.9/site-packages (from torchvision->timm==0.6.2dev) (2.27.1)\n",
      "Requirement already satisfied: pillow!=8.3.*,>=5.3.0 in /Users/bsmi067/mambaforge/lib/python3.9/site-packages (from torchvision->timm==0.6.2dev) (9.1.1)\n",
      "Requirement already satisfied: numpy in /Users/bsmi067/mambaforge/lib/python3.9/site-packages (from torchvision->timm==0.6.2dev) (1.22.4)\n",
      "Requirement already satisfied: idna<4,>=2.5 in /Users/bsmi067/mambaforge/lib/python3.9/site-packages (from requests->torchvision->timm==0.6.2dev) (3.3)\n",
      "Requirement already satisfied: certifi>=2017.4.17 in /Users/bsmi067/mambaforge/lib/python3.9/site-packages (from requests->torchvision->timm==0.6.2dev) (2022.6.15)\n",
      "Requirement already satisfied: urllib3<1.27,>=1.21.1 in /Users/bsmi067/mambaforge/lib/python3.9/site-packages (from requests->torchvision->timm==0.6.2dev) (1.26.9)\n",
      "Requirement already satisfied: charset-normalizer~=2.0.0 in /Users/bsmi067/mambaforge/lib/python3.9/site-packages (from requests->torchvision->timm==0.6.2dev) (2.0.12)\n",
      "Installing collected packages: torchvision\n",
      "Successfully installed torchvision-0.12.0\n",
      "Note: you may need to restart the kernel to use updated packages.\n"
     ]
    }
   ],
   "source": [
    "pip install -U timm==0.6.2dev"
   ]
  },
  {
   "cell_type": "code",
   "execution_count": 15,
   "id": "4e350958-6493-4f35-b96b-75d9557837f5",
   "metadata": {},
   "outputs": [
    {
     "name": "stdout",
     "output_type": "stream",
     "text": [
      "paddy-disease-classification.zip: Skipping, found more recently modified local copy (use --force to force download)\n"
     ]
    }
   ],
   "source": [
    "!cd data && kaggle competitions download -c paddy-disease-classification && unzip -q paddy-disease-classification.zip"
   ]
  },
  {
   "cell_type": "code",
   "execution_count": 1,
   "id": "39827f00-23cd-4209-9bef-a9fa42f45f26",
   "metadata": {},
   "outputs": [],
   "source": [
    "import timm"
   ]
  },
  {
   "cell_type": "markdown",
   "id": "737bbc34-b0ea-4137-8260-a48d2c3fc156",
   "metadata": {},
   "source": [
    "We have now downloaded and extracted the data to the `data` directory."
   ]
  },
  {
   "cell_type": "code",
   "execution_count": 2,
   "id": "b7b72c68-b566-4e58-b235-3cefb216fd07",
   "metadata": {},
   "outputs": [
    {
     "name": "stdout",
     "output_type": "stream",
     "text": [
      "paddy-disease-classification.zip  train.csv\r\n",
      "sample_submission.csv             \u001b[34mtrain_images\u001b[m\u001b[m/\r\n",
      "\u001b[34mtest_images\u001b[m\u001b[m/\r\n"
     ]
    }
   ],
   "source": [
    "ls data"
   ]
  },
  {
   "cell_type": "code",
   "execution_count": 3,
   "id": "dd4b5884-0d0b-4383-b808-0faf2e37d5f7",
   "metadata": {},
   "outputs": [
    {
     "name": "stdout",
     "output_type": "stream",
     "text": [
      "\u001b[34mbacterial_leaf_blight\u001b[m\u001b[m/    \u001b[34mbrown_spot\u001b[m\u001b[m/               \u001b[34mnormal\u001b[m\u001b[m/\r\n",
      "\u001b[34mbacterial_leaf_streak\u001b[m\u001b[m/    \u001b[34mdead_heart\u001b[m\u001b[m/               \u001b[34mtungro\u001b[m\u001b[m/\r\n",
      "\u001b[34mbacterial_panicle_blight\u001b[m\u001b[m/ \u001b[34mdowny_mildew\u001b[m\u001b[m/\r\n",
      "\u001b[34mblast\u001b[m\u001b[m/                    \u001b[34mhispa\u001b[m\u001b[m/\r\n"
     ]
    }
   ],
   "source": [
    "ls data/train_images"
   ]
  },
  {
   "cell_type": "code",
   "execution_count": 4,
   "id": "1dd5e464-289d-43db-8062-1cd8d645ecd1",
   "metadata": {},
   "outputs": [
    {
     "name": "stdout",
     "output_type": "stream",
     "text": [
      "200001.jpg\r\n",
      "200002.jpg\r\n",
      "200003.jpg\r\n",
      "200004.jpg\r\n",
      "200005.jpg\r\n",
      "200006.jpg\r\n",
      "200007.jpg\r\n",
      "200008.jpg\r\n",
      "200009.jpg\r\n",
      "200010.jpg\r\n"
     ]
    }
   ],
   "source": [
    "ls data/test_images | head"
   ]
  },
  {
   "cell_type": "markdown",
   "id": "8ff65134-19f9-4dea-988d-25b95b3183bb",
   "metadata": {},
   "source": [
    "Seems that the train data is organized by directories, with the name of the directory being the label.\n",
    "\n",
    "Test images just live in `data/test_images`\n",
    "\n",
    "Let us see what is the format of the sample submission file to have a full picture."
   ]
  },
  {
   "cell_type": "code",
   "execution_count": 5,
   "id": "dd2493c2-1f74-459e-9bdc-80b9e10fbea0",
   "metadata": {},
   "outputs": [
    {
     "data": {
      "text/html": [
       "<div>\n",
       "<style scoped>\n",
       "    .dataframe tbody tr th:only-of-type {\n",
       "        vertical-align: middle;\n",
       "    }\n",
       "\n",
       "    .dataframe tbody tr th {\n",
       "        vertical-align: top;\n",
       "    }\n",
       "\n",
       "    .dataframe thead th {\n",
       "        text-align: right;\n",
       "    }\n",
       "</style>\n",
       "<table border=\"1\" class=\"dataframe\">\n",
       "  <thead>\n",
       "    <tr style=\"text-align: right;\">\n",
       "      <th></th>\n",
       "      <th>image_id</th>\n",
       "      <th>label</th>\n",
       "    </tr>\n",
       "  </thead>\n",
       "  <tbody>\n",
       "    <tr>\n",
       "      <th>0</th>\n",
       "      <td>200001.jpg</td>\n",
       "      <td>NaN</td>\n",
       "    </tr>\n",
       "    <tr>\n",
       "      <th>1</th>\n",
       "      <td>200002.jpg</td>\n",
       "      <td>NaN</td>\n",
       "    </tr>\n",
       "    <tr>\n",
       "      <th>2</th>\n",
       "      <td>200003.jpg</td>\n",
       "      <td>NaN</td>\n",
       "    </tr>\n",
       "    <tr>\n",
       "      <th>3</th>\n",
       "      <td>200004.jpg</td>\n",
       "      <td>NaN</td>\n",
       "    </tr>\n",
       "    <tr>\n",
       "      <th>4</th>\n",
       "      <td>200005.jpg</td>\n",
       "      <td>NaN</td>\n",
       "    </tr>\n",
       "  </tbody>\n",
       "</table>\n",
       "</div>"
      ],
      "text/plain": [
       "     image_id  label\n",
       "0  200001.jpg    NaN\n",
       "1  200002.jpg    NaN\n",
       "2  200003.jpg    NaN\n",
       "3  200004.jpg    NaN\n",
       "4  200005.jpg    NaN"
      ]
     },
     "execution_count": 5,
     "metadata": {},
     "output_type": "execute_result"
    }
   ],
   "source": [
    "import pandas as pd\n",
    "\n",
    "sample_sub = pd.read_csv('data/sample_submission.csv')\n",
    "sample_sub.head()"
   ]
  },
  {
   "cell_type": "markdown",
   "id": "e332bc06-ad58-4406-a6b8-4ccd363e9780",
   "metadata": {},
   "source": [
    "Mhmm. Guessing the labels for the submission are the names of the directories.\n",
    "\n",
    "Ok, let's start training!"
   ]
  },
  {
   "cell_type": "code",
   "execution_count": 6,
   "id": "f633cd8b-889e-44c7-bd5a-8c5cfc6f9e61",
   "metadata": {},
   "outputs": [],
   "source": [
    "from fastai.vision.all import *\n",
    "from fastcore.parallel import *"
   ]
  },
  {
   "cell_type": "code",
   "execution_count": 7,
   "id": "d9488140-2fe0-41d2-a177-e4e4ac100832",
   "metadata": {},
   "outputs": [],
   "source": [
    "path = Path('data')\n",
    "trn_path= path/'train_images'\n",
    "tst_files = get_image_files(path/'test_images').sorted()"
   ]
  },
  {
   "cell_type": "code",
   "execution_count": 8,
   "id": "9f3ae06b-438a-4ed0-ac85-127af9556328",
   "metadata": {},
   "outputs": [],
   "source": [
    "tta_res = []"
   ]
  },
  {
   "cell_type": "code",
   "execution_count": 9,
   "id": "dceea622-0d50-4e54-9ea0-1b500641d04b",
   "metadata": {},
   "outputs": [],
   "source": [
    "def train(desc, arch, item, batch, accum=False):\n",
    "    kwargs = {'bs':32} if accum else{}\n",
    "    dls = ImageDataLoaders.from_folder(trn_path, seed=42, valid_pct=0.2, item_tfms=item, batch_tfms=batch, **kwargs)\n",
    "    cbs = GradientAccumulation(2) if accum else []\n",
    "    learn = vision_learner(dls, arch, metrics=error_rate, cbs=cbs).to_fp16()\n",
    "    learn.fine_tune(3, 0.02)\n",
    "    tta_res.append(learn.tta(dl=dls.test_dl(tst_files)))\n",
    "    learn.export(f'{arch}_{desc}')\n",
    "    "
   ]
  },
  {
   "cell_type": "code",
   "execution_count": 10,
   "id": "97580e6a",
   "metadata": {},
   "outputs": [
    {
     "data": {
      "text/plain": [
       "<module 'timm' from '/Users/bsmi067/mambaforge/lib/python3.9/site-packages/timm/__init__.py'>"
      ]
     },
     "execution_count": 10,
     "metadata": {},
     "output_type": "execute_result"
    }
   ],
   "source": [
    "timm"
   ]
  },
  {
   "cell_type": "code",
   "execution_count": 12,
   "id": "fb5c81a4-e158-439c-94c0-1925ea0cacb1",
   "metadata": {},
   "outputs": [],
   "source": [
    "arch = 'convnext_tiny_in22k'"
   ]
  },
  {
   "cell_type": "code",
   "execution_count": 13,
   "id": "738aa283-2673-482b-af05-6e4c815caa87",
   "metadata": {},
   "outputs": [
    {
     "name": "stderr",
     "output_type": "stream",
     "text": [
      "/Users/bsmi067/mambaforge/lib/python3.9/site-packages/torch/autocast_mode.py:162: UserWarning: User provided device_type of 'cuda', but CUDA is not available. Disabling\n",
      "  warnings.warn('User provided device_type of \\'cuda\\', but CUDA is not available. Disabling')\n",
      "/Users/bsmi067/mambaforge/lib/python3.9/site-packages/torch/cuda/amp/grad_scaler.py:115: UserWarning: torch.cuda.amp.GradScaler is enabled, but CUDA is not available.  Disabling.\n",
      "  warnings.warn(\"torch.cuda.amp.GradScaler is enabled, but CUDA is not available.  Disabling.\")\n"
     ]
    },
    {
     "data": {
      "text/html": [
       "\n",
       "<style>\n",
       "    /* Turns off some styling */\n",
       "    progress {\n",
       "        /* gets rid of default border in Firefox and Opera. */\n",
       "        border: none;\n",
       "        /* Needs to be in here for Safari polyfill so background images work as expected. */\n",
       "        background-size: auto;\n",
       "    }\n",
       "    .progress-bar-interrupted, .progress-bar-interrupted::-webkit-progress-bar {\n",
       "        background: #F44336;\n",
       "    }\n",
       "</style>\n"
      ],
      "text/plain": [
       "<IPython.core.display.HTML object>"
      ]
     },
     "metadata": {},
     "output_type": "display_data"
    },
    {
     "data": {
      "text/html": [
       "<table border=\"1\" class=\"dataframe\">\n",
       "  <thead>\n",
       "    <tr style=\"text-align: left;\">\n",
       "      <th>epoch</th>\n",
       "      <th>train_loss</th>\n",
       "      <th>valid_loss</th>\n",
       "      <th>error_rate</th>\n",
       "      <th>time</th>\n",
       "    </tr>\n",
       "  </thead>\n",
       "  <tbody>\n",
       "    <tr>\n",
       "      <td>0</td>\n",
       "      <td>1.576814</td>\n",
       "      <td>1.186038</td>\n",
       "      <td>0.358001</td>\n",
       "      <td>23:29</td>\n",
       "    </tr>\n",
       "  </tbody>\n",
       "</table>"
      ],
      "text/plain": [
       "<IPython.core.display.HTML object>"
      ]
     },
     "metadata": {},
     "output_type": "display_data"
    },
    {
     "data": {
      "text/html": [
       "\n",
       "<style>\n",
       "    /* Turns off some styling */\n",
       "    progress {\n",
       "        /* gets rid of default border in Firefox and Opera. */\n",
       "        border: none;\n",
       "        /* Needs to be in here for Safari polyfill so background images work as expected. */\n",
       "        background-size: auto;\n",
       "    }\n",
       "    .progress-bar-interrupted, .progress-bar-interrupted::-webkit-progress-bar {\n",
       "        background: #F44336;\n",
       "    }\n",
       "</style>\n"
      ],
      "text/plain": [
       "<IPython.core.display.HTML object>"
      ]
     },
     "metadata": {},
     "output_type": "display_data"
    },
    {
     "data": {
      "text/html": [
       "<table border=\"1\" class=\"dataframe\">\n",
       "  <thead>\n",
       "    <tr style=\"text-align: left;\">\n",
       "      <th>epoch</th>\n",
       "      <th>train_loss</th>\n",
       "      <th>valid_loss</th>\n",
       "      <th>error_rate</th>\n",
       "      <th>time</th>\n",
       "    </tr>\n",
       "  </thead>\n",
       "  <tbody>\n",
       "    <tr>\n",
       "      <td>0</td>\n",
       "      <td>0.858342</td>\n",
       "      <td>0.695880</td>\n",
       "      <td>0.235464</td>\n",
       "      <td>33:54</td>\n",
       "    </tr>\n",
       "    <tr>\n",
       "      <td>1</td>\n",
       "      <td>0.487654</td>\n",
       "      <td>0.345900</td>\n",
       "      <td>0.105238</td>\n",
       "      <td>34:03</td>\n",
       "    </tr>\n",
       "    <tr>\n",
       "      <td>2</td>\n",
       "      <td>0.238839</td>\n",
       "      <td>0.219533</td>\n",
       "      <td>0.064392</td>\n",
       "      <td>34:27</td>\n",
       "    </tr>\n",
       "  </tbody>\n",
       "</table>"
      ],
      "text/plain": [
       "<IPython.core.display.HTML object>"
      ]
     },
     "metadata": {},
     "output_type": "display_data"
    },
    {
     "data": {
      "text/html": [
       "\n",
       "<style>\n",
       "    /* Turns off some styling */\n",
       "    progress {\n",
       "        /* gets rid of default border in Firefox and Opera. */\n",
       "        border: none;\n",
       "        /* Needs to be in here for Safari polyfill so background images work as expected. */\n",
       "        background-size: auto;\n",
       "    }\n",
       "    .progress-bar-interrupted, .progress-bar-interrupted::-webkit-progress-bar {\n",
       "        background: #F44336;\n",
       "    }\n",
       "</style>\n"
      ],
      "text/plain": [
       "<IPython.core.display.HTML object>"
      ]
     },
     "metadata": {},
     "output_type": "display_data"
    },
    {
     "data": {
      "text/html": [
       "\n",
       "    <div>\n",
       "      <progress value='0' class='' max='3' style='width:300px; height:20px; vertical-align: middle;'></progress>\n",
       "      \n",
       "    </div>\n",
       "    \n"
      ],
      "text/plain": [
       "<IPython.core.display.HTML object>"
      ]
     },
     "metadata": {},
     "output_type": "display_data"
    },
    {
     "data": {
      "text/html": [
       "\n",
       "<style>\n",
       "    /* Turns off some styling */\n",
       "    progress {\n",
       "        /* gets rid of default border in Firefox and Opera. */\n",
       "        border: none;\n",
       "        /* Needs to be in here for Safari polyfill so background images work as expected. */\n",
       "        background-size: auto;\n",
       "    }\n",
       "    .progress-bar-interrupted, .progress-bar-interrupted::-webkit-progress-bar {\n",
       "        background: #F44336;\n",
       "    }\n",
       "</style>\n"
      ],
      "text/plain": [
       "<IPython.core.display.HTML object>"
      ]
     },
     "metadata": {},
     "output_type": "display_data"
    },
    {
     "data": {
      "text/html": [],
      "text/plain": [
       "<IPython.core.display.HTML object>"
      ]
     },
     "metadata": {},
     "output_type": "display_data"
    }
   ],
   "source": [
    "train('squish', arch, item=Resize(480, method='squish'), batch=aug_transforms(size=128, min_scale=0.75), accum=True)"
   ]
  },
  {
   "cell_type": "code",
   "execution_count": 14,
   "id": "a327c81f",
   "metadata": {},
   "outputs": [
    {
     "name": "stderr",
     "output_type": "stream",
     "text": [
      "/Users/bsmi067/mambaforge/lib/python3.9/site-packages/torch/autocast_mode.py:162: UserWarning: User provided device_type of 'cuda', but CUDA is not available. Disabling\n",
      "  warnings.warn('User provided device_type of \\'cuda\\', but CUDA is not available. Disabling')\n",
      "/Users/bsmi067/mambaforge/lib/python3.9/site-packages/torch/cuda/amp/grad_scaler.py:115: UserWarning: torch.cuda.amp.GradScaler is enabled, but CUDA is not available.  Disabling.\n",
      "  warnings.warn(\"torch.cuda.amp.GradScaler is enabled, but CUDA is not available.  Disabling.\")\n"
     ]
    },
    {
     "data": {
      "text/html": [
       "\n",
       "<style>\n",
       "    /* Turns off some styling */\n",
       "    progress {\n",
       "        /* gets rid of default border in Firefox and Opera. */\n",
       "        border: none;\n",
       "        /* Needs to be in here for Safari polyfill so background images work as expected. */\n",
       "        background-size: auto;\n",
       "    }\n",
       "    .progress-bar-interrupted, .progress-bar-interrupted::-webkit-progress-bar {\n",
       "        background: #F44336;\n",
       "    }\n",
       "</style>\n"
      ],
      "text/plain": [
       "<IPython.core.display.HTML object>"
      ]
     },
     "metadata": {},
     "output_type": "display_data"
    },
    {
     "data": {
      "text/html": [
       "<table border=\"1\" class=\"dataframe\">\n",
       "  <thead>\n",
       "    <tr style=\"text-align: left;\">\n",
       "      <th>epoch</th>\n",
       "      <th>train_loss</th>\n",
       "      <th>valid_loss</th>\n",
       "      <th>error_rate</th>\n",
       "      <th>time</th>\n",
       "    </tr>\n",
       "  </thead>\n",
       "  <tbody>\n",
       "    <tr>\n",
       "      <td>0</td>\n",
       "      <td>1.683572</td>\n",
       "      <td>1.132257</td>\n",
       "      <td>0.333974</td>\n",
       "      <td>21:59</td>\n",
       "    </tr>\n",
       "  </tbody>\n",
       "</table>"
      ],
      "text/plain": [
       "<IPython.core.display.HTML object>"
      ]
     },
     "metadata": {},
     "output_type": "display_data"
    },
    {
     "data": {
      "text/html": [
       "\n",
       "<style>\n",
       "    /* Turns off some styling */\n",
       "    progress {\n",
       "        /* gets rid of default border in Firefox and Opera. */\n",
       "        border: none;\n",
       "        /* Needs to be in here for Safari polyfill so background images work as expected. */\n",
       "        background-size: auto;\n",
       "    }\n",
       "    .progress-bar-interrupted, .progress-bar-interrupted::-webkit-progress-bar {\n",
       "        background: #F44336;\n",
       "    }\n",
       "</style>\n"
      ],
      "text/plain": [
       "<IPython.core.display.HTML object>"
      ]
     },
     "metadata": {},
     "output_type": "display_data"
    },
    {
     "data": {
      "text/html": [
       "<table border=\"1\" class=\"dataframe\">\n",
       "  <thead>\n",
       "    <tr style=\"text-align: left;\">\n",
       "      <th>epoch</th>\n",
       "      <th>train_loss</th>\n",
       "      <th>valid_loss</th>\n",
       "      <th>error_rate</th>\n",
       "      <th>time</th>\n",
       "    </tr>\n",
       "  </thead>\n",
       "  <tbody>\n",
       "    <tr>\n",
       "      <td>0</td>\n",
       "      <td>0.987379</td>\n",
       "      <td>0.775341</td>\n",
       "      <td>0.256607</td>\n",
       "      <td>25:50</td>\n",
       "    </tr>\n",
       "    <tr>\n",
       "      <td>1</td>\n",
       "      <td>0.527337</td>\n",
       "      <td>0.496249</td>\n",
       "      <td>0.158097</td>\n",
       "      <td>31:47</td>\n",
       "    </tr>\n",
       "    <tr>\n",
       "      <td>2</td>\n",
       "      <td>0.299733</td>\n",
       "      <td>0.255496</td>\n",
       "      <td>0.079289</td>\n",
       "      <td>15:32</td>\n",
       "    </tr>\n",
       "  </tbody>\n",
       "</table>"
      ],
      "text/plain": [
       "<IPython.core.display.HTML object>"
      ]
     },
     "metadata": {},
     "output_type": "display_data"
    },
    {
     "data": {
      "text/html": [
       "\n",
       "<style>\n",
       "    /* Turns off some styling */\n",
       "    progress {\n",
       "        /* gets rid of default border in Firefox and Opera. */\n",
       "        border: none;\n",
       "        /* Needs to be in here for Safari polyfill so background images work as expected. */\n",
       "        background-size: auto;\n",
       "    }\n",
       "    .progress-bar-interrupted, .progress-bar-interrupted::-webkit-progress-bar {\n",
       "        background: #F44336;\n",
       "    }\n",
       "</style>\n"
      ],
      "text/plain": [
       "<IPython.core.display.HTML object>"
      ]
     },
     "metadata": {},
     "output_type": "display_data"
    },
    {
     "data": {
      "text/html": [
       "\n",
       "    <div>\n",
       "      <progress value='0' class='' max='3' style='width:300px; height:20px; vertical-align: middle;'></progress>\n",
       "      \n",
       "    </div>\n",
       "    \n"
      ],
      "text/plain": [
       "<IPython.core.display.HTML object>"
      ]
     },
     "metadata": {},
     "output_type": "display_data"
    },
    {
     "data": {
      "text/html": [
       "\n",
       "<style>\n",
       "    /* Turns off some styling */\n",
       "    progress {\n",
       "        /* gets rid of default border in Firefox and Opera. */\n",
       "        border: none;\n",
       "        /* Needs to be in here for Safari polyfill so background images work as expected. */\n",
       "        background-size: auto;\n",
       "    }\n",
       "    .progress-bar-interrupted, .progress-bar-interrupted::-webkit-progress-bar {\n",
       "        background: #F44336;\n",
       "    }\n",
       "</style>\n"
      ],
      "text/plain": [
       "<IPython.core.display.HTML object>"
      ]
     },
     "metadata": {},
     "output_type": "display_data"
    },
    {
     "data": {
      "text/html": [],
      "text/plain": [
       "<IPython.core.display.HTML object>"
      ]
     },
     "metadata": {},
     "output_type": "display_data"
    }
   ],
   "source": [
    "train('squish64', arch, item=Resize(480, method='squish'), batch=aug_transforms(size=64, min_scale=0.75), accum=True)"
   ]
  },
  {
   "cell_type": "code",
   "execution_count": 15,
   "id": "17315dbe",
   "metadata": {},
   "outputs": [
    {
     "name": "stderr",
     "output_type": "stream",
     "text": [
      "/Users/bsmi067/mambaforge/lib/python3.9/site-packages/torch/autocast_mode.py:162: UserWarning: User provided device_type of 'cuda', but CUDA is not available. Disabling\n",
      "  warnings.warn('User provided device_type of \\'cuda\\', but CUDA is not available. Disabling')\n",
      "/Users/bsmi067/mambaforge/lib/python3.9/site-packages/torch/cuda/amp/grad_scaler.py:115: UserWarning: torch.cuda.amp.GradScaler is enabled, but CUDA is not available.  Disabling.\n",
      "  warnings.warn(\"torch.cuda.amp.GradScaler is enabled, but CUDA is not available.  Disabling.\")\n"
     ]
    },
    {
     "data": {
      "text/html": [
       "\n",
       "<style>\n",
       "    /* Turns off some styling */\n",
       "    progress {\n",
       "        /* gets rid of default border in Firefox and Opera. */\n",
       "        border: none;\n",
       "        /* Needs to be in here for Safari polyfill so background images work as expected. */\n",
       "        background-size: auto;\n",
       "    }\n",
       "    .progress-bar-interrupted, .progress-bar-interrupted::-webkit-progress-bar {\n",
       "        background: #F44336;\n",
       "    }\n",
       "</style>\n"
      ],
      "text/plain": [
       "<IPython.core.display.HTML object>"
      ]
     },
     "metadata": {},
     "output_type": "display_data"
    },
    {
     "data": {
      "text/html": [
       "<table border=\"1\" class=\"dataframe\">\n",
       "  <thead>\n",
       "    <tr style=\"text-align: left;\">\n",
       "      <th>epoch</th>\n",
       "      <th>train_loss</th>\n",
       "      <th>valid_loss</th>\n",
       "      <th>error_rate</th>\n",
       "      <th>time</th>\n",
       "    </tr>\n",
       "  </thead>\n",
       "  <tbody>\n",
       "    <tr>\n",
       "      <td>0</td>\n",
       "      <td>2.052876</td>\n",
       "      <td>1.377285</td>\n",
       "      <td>0.433926</td>\n",
       "      <td>06:42</td>\n",
       "    </tr>\n",
       "  </tbody>\n",
       "</table>"
      ],
      "text/plain": [
       "<IPython.core.display.HTML object>"
      ]
     },
     "metadata": {},
     "output_type": "display_data"
    },
    {
     "data": {
      "text/html": [
       "\n",
       "<style>\n",
       "    /* Turns off some styling */\n",
       "    progress {\n",
       "        /* gets rid of default border in Firefox and Opera. */\n",
       "        border: none;\n",
       "        /* Needs to be in here for Safari polyfill so background images work as expected. */\n",
       "        background-size: auto;\n",
       "    }\n",
       "    .progress-bar-interrupted, .progress-bar-interrupted::-webkit-progress-bar {\n",
       "        background: #F44336;\n",
       "    }\n",
       "</style>\n"
      ],
      "text/plain": [
       "<IPython.core.display.HTML object>"
      ]
     },
     "metadata": {},
     "output_type": "display_data"
    },
    {
     "data": {
      "text/html": [
       "<table border=\"1\" class=\"dataframe\">\n",
       "  <thead>\n",
       "    <tr style=\"text-align: left;\">\n",
       "      <th>epoch</th>\n",
       "      <th>train_loss</th>\n",
       "      <th>valid_loss</th>\n",
       "      <th>error_rate</th>\n",
       "      <th>time</th>\n",
       "    </tr>\n",
       "  </thead>\n",
       "  <tbody>\n",
       "    <tr>\n",
       "      <td>0</td>\n",
       "      <td>1.195391</td>\n",
       "      <td>0.968515</td>\n",
       "      <td>0.319558</td>\n",
       "      <td>47:54</td>\n",
       "    </tr>\n",
       "    <tr>\n",
       "      <td>1</td>\n",
       "      <td>0.754575</td>\n",
       "      <td>0.575923</td>\n",
       "      <td>0.181163</td>\n",
       "      <td>48:51</td>\n",
       "    </tr>\n",
       "    <tr>\n",
       "      <td>2</td>\n",
       "      <td>0.505646</td>\n",
       "      <td>0.405346</td>\n",
       "      <td>0.133109</td>\n",
       "      <td>31:26</td>\n",
       "    </tr>\n",
       "  </tbody>\n",
       "</table>"
      ],
      "text/plain": [
       "<IPython.core.display.HTML object>"
      ]
     },
     "metadata": {},
     "output_type": "display_data"
    },
    {
     "data": {
      "text/html": [
       "\n",
       "<style>\n",
       "    /* Turns off some styling */\n",
       "    progress {\n",
       "        /* gets rid of default border in Firefox and Opera. */\n",
       "        border: none;\n",
       "        /* Needs to be in here for Safari polyfill so background images work as expected. */\n",
       "        background-size: auto;\n",
       "    }\n",
       "    .progress-bar-interrupted, .progress-bar-interrupted::-webkit-progress-bar {\n",
       "        background: #F44336;\n",
       "    }\n",
       "</style>\n"
      ],
      "text/plain": [
       "<IPython.core.display.HTML object>"
      ]
     },
     "metadata": {},
     "output_type": "display_data"
    },
    {
     "data": {
      "text/html": [
       "\n",
       "    <div>\n",
       "      <progress value='0' class='' max='3' style='width:300px; height:20px; vertical-align: middle;'></progress>\n",
       "      \n",
       "    </div>\n",
       "    \n"
      ],
      "text/plain": [
       "<IPython.core.display.HTML object>"
      ]
     },
     "metadata": {},
     "output_type": "display_data"
    },
    {
     "data": {
      "text/html": [
       "\n",
       "<style>\n",
       "    /* Turns off some styling */\n",
       "    progress {\n",
       "        /* gets rid of default border in Firefox and Opera. */\n",
       "        border: none;\n",
       "        /* Needs to be in here for Safari polyfill so background images work as expected. */\n",
       "        background-size: auto;\n",
       "    }\n",
       "    .progress-bar-interrupted, .progress-bar-interrupted::-webkit-progress-bar {\n",
       "        background: #F44336;\n",
       "    }\n",
       "</style>\n"
      ],
      "text/plain": [
       "<IPython.core.display.HTML object>"
      ]
     },
     "metadata": {},
     "output_type": "display_data"
    },
    {
     "data": {
      "text/html": [],
      "text/plain": [
       "<IPython.core.display.HTML object>"
      ]
     },
     "metadata": {},
     "output_type": "display_data"
    }
   ],
   "source": [
    "train('squish32', arch, item=Resize(480, method='squish'), batch=aug_transforms(size=32, min_scale=0.75), accum=True)"
   ]
  },
  {
   "cell_type": "code",
   "execution_count": 16,
   "id": "df076088-dfc8-4673-af8c-21ed77caf2b7",
   "metadata": {},
   "outputs": [],
   "source": [
    "save_pickle('tta_res.pkl', tta_res)\n",
    "tta_prs = first(zip(*tta_res))"
   ]
  },
  {
   "cell_type": "code",
   "execution_count": 23,
   "id": "d0841e9e",
   "metadata": {},
   "outputs": [
    {
     "data": {
      "text/plain": [
       "(TensorBase([[1.4467e-04, 3.5593e-06, 1.5443e-05,  ..., 9.8472e-01, 9.2436e-03,\n",
       "          3.6062e-05],\n",
       "         [1.0460e-05, 1.0821e-05, 1.2065e-06,  ..., 1.3769e-03, 9.9784e-01,\n",
       "          9.9138e-05],\n",
       "         [1.6940e-03, 1.4689e-03, 4.0445e-04,  ..., 2.0533e-01, 2.6199e-02,\n",
       "          2.4929e-03],\n",
       "         ...,\n",
       "         [3.4687e-07, 4.2655e-08, 1.6575e-07,  ..., 3.4927e-06, 9.9998e-01,\n",
       "          6.3852e-06],\n",
       "         [1.4066e-03, 9.7516e-01, 3.4856e-04,  ..., 1.2356e-02, 1.7219e-03,\n",
       "          3.8615e-04],\n",
       "         [4.5315e-11, 1.0754e-14, 1.6617e-12,  ..., 1.9259e-10, 7.4155e-11,\n",
       "          9.2955e-11]]),\n",
       " TensorBase([[6.9185e-04, 3.9026e-07, 3.4659e-06,  ..., 9.9902e-01, 2.0757e-04,\n",
       "          5.6475e-06],\n",
       "         [8.1294e-08, 4.7761e-07, 1.9983e-08,  ..., 1.7230e-05, 9.9994e-01,\n",
       "          1.8909e-06],\n",
       "         [6.1377e-03, 3.6428e-03, 2.1927e-03,  ..., 9.5144e-02, 1.5961e-01,\n",
       "          2.9712e-03],\n",
       "         ...,\n",
       "         [1.9596e-07, 4.5837e-09, 6.8226e-09,  ..., 2.9205e-05, 9.9984e-01,\n",
       "          2.4740e-06],\n",
       "         [2.9423e-05, 9.1441e-01, 9.7792e-05,  ..., 5.1218e-03, 3.0355e-04,\n",
       "          7.0878e-04],\n",
       "         [1.4669e-06, 1.0099e-08, 2.6575e-07,  ..., 9.9661e-07, 6.7192e-07,\n",
       "          2.6005e-05]]),\n",
       " TensorBase([[1.5780e-05, 1.1590e-06, 5.4484e-07,  ..., 9.9570e-01, 4.5226e-04,\n",
       "          4.6464e-06],\n",
       "         [8.7945e-06, 2.0685e-07, 4.6442e-07,  ..., 9.9610e-04, 9.9759e-01,\n",
       "          3.1524e-04],\n",
       "         [4.8415e-03, 3.2257e-03, 1.0612e-02,  ..., 1.5219e-01, 1.2121e-01,\n",
       "          2.9910e-03],\n",
       "         ...,\n",
       "         [9.6387e-06, 1.0810e-06, 3.3759e-07,  ..., 2.0237e-04, 9.9867e-01,\n",
       "          5.8940e-05],\n",
       "         [9.1779e-03, 6.4490e-01, 8.1947e-03,  ..., 5.6438e-02, 7.1858e-03,\n",
       "          1.8259e-02],\n",
       "         [1.4101e-04, 8.8858e-06, 1.2015e-04,  ..., 4.6614e-02, 1.0454e-04,\n",
       "          3.1489e-04]]))"
      ]
     },
     "execution_count": 23,
     "metadata": {},
     "output_type": "execute_result"
    }
   ],
   "source": [
    "tta_prs"
   ]
  },
  {
   "cell_type": "code",
   "execution_count": 24,
   "id": "10f5e4ca-9d00-4e2c-9b73-b9bebc02a881",
   "metadata": {},
   "outputs": [],
   "source": [
    "tta_prs += tta_prs[1:2]"
   ]
  },
  {
   "cell_type": "code",
   "execution_count": 25,
   "id": "2b028c96",
   "metadata": {},
   "outputs": [],
   "source": [
    "tta_prs += tta_prs[1:2]"
   ]
  },
  {
   "cell_type": "code",
   "execution_count": 26,
   "id": "4d65150f",
   "metadata": {},
   "outputs": [],
   "source": [
    "tta_prs += tta_prs[2:3]"
   ]
  },
  {
   "cell_type": "code",
   "execution_count": 27,
   "id": "bcdceb10-f841-4474-9048-e7bf194134f2",
   "metadata": {},
   "outputs": [],
   "source": [
    "t_tta = torch.stack(tta_prs)"
   ]
  },
  {
   "cell_type": "code",
   "execution_count": 29,
   "id": "b58f957d-7093-4478-8bc2-9481f6c9d10b",
   "metadata": {},
   "outputs": [
    {
     "data": {
      "text/plain": [
       "torch.Size([3469])"
      ]
     },
     "execution_count": 29,
     "metadata": {},
     "output_type": "execute_result"
    }
   ],
   "source": [
    "avg_pr = t_tta.mean(0)\n",
    "idxs = avg_pr.argmax(dim=1)\n",
    "idxs.shape"
   ]
  },
  {
   "cell_type": "code",
   "execution_count": 36,
   "id": "2690eb85-d97e-4a8c-91a9-e3f7818be6f5",
   "metadata": {},
   "outputs": [],
   "source": [
    "dls = ImageDataLoaders.from_folder(trn_path, valid_pct=0.2, item_tfms=Resize(224))\n",
    "mapping = dict(enumerate(dls.vocab))\n",
    "ss = pd.read_csv('data/sample_submission.csv')\n",
    "results = pd.Series(idxs.numpy(), name='idxs').map(mapping)\n",
    "ss.label = results\n",
    "ss.to_csv('data/submissions/subm.csv', index=False)"
   ]
  },
  {
   "cell_type": "code",
   "execution_count": 32,
   "id": "90ec0c02-eba4-4d7e-b7ab-a2c6c4ae1b67",
   "metadata": {},
   "outputs": [
    {
     "name": "stdout",
     "output_type": "stream",
     "text": [
      "Warning: Your Kaggle API key is readable by other users on this system! To fix this, you can run 'chmod 600 /root/.kaggle/kaggle.json'\n",
      "Traceback (most recent call last):\n",
      "  File \"/root/.local/bin/kaggle\", line 8, in <module>\n",
      "    sys.exit(main())\n",
      "  File \"/root/.local/lib/python3.7/site-packages/kaggle/cli.py\", line 67, in main\n",
      "    out = args.func(**command_args)\n",
      "  File \"/root/.local/lib/python3.7/site-packages/kaggle/api/kaggle_api_extended.py\", line 562, in competition_submit_cli\n",
      "    competition, quiet)\n",
      "  File \"/root/.local/lib/python3.7/site-packages/kaggle/api/kaggle_api_extended.py\", line 513, in competition_submit\n",
      "    content_length=os.path.getsize(file_name),\n",
      "  File \"/opt/conda/lib/python3.7/genericpath.py\", line 50, in getsize\n",
      "    return os.stat(filename).st_size\n",
      "FileNotFoundError: [Errno 2] No such file or directory: 'data/submissions/brismith_sub1.csv.gz'\n"
     ]
    }
   ],
   "source": [
    "!kaggle competitions submit -c paddy-disease-classification -f data/submissions/subm.csv -m \"4th Sub\""
   ]
  },
  {
   "cell_type": "code",
   "execution_count": 37,
   "id": "cf21648a-dc1c-4086-a43a-b76c03bf76d3",
   "metadata": {},
   "outputs": [
    {
     "name": "stdout",
     "output_type": "stream",
     "text": [
      "100%|██████████████████████████████████████| 70.1k/70.1k [00:02<00:00, 32.0kB/s]\n",
      "Successfully submitted to Paddy Doctor: Paddy Disease Classification"
     ]
    }
   ],
   "source": [
    "!kaggle competitions submit -c paddy-disease-classification -f data/submissions/subm.csv -m \"M1 chip entry\""
   ]
  },
  {
   "cell_type": "code",
   "execution_count": null,
   "id": "bc0d4604-d9ae-42ec-b9c2-8d1e492d1100",
   "metadata": {},
   "outputs": [],
   "source": []
  }
 ],
 "metadata": {
  "kernelspec": {
   "display_name": "Python 3 (ipykernel)",
   "language": "python",
   "name": "python3"
  },
  "language_info": {
   "codemirror_mode": {
    "name": "ipython",
    "version": 3
   },
   "file_extension": ".py",
   "mimetype": "text/x-python",
   "name": "python",
   "nbconvert_exporter": "python",
   "pygments_lexer": "ipython3",
   "version": "3.9.13"
  }
 },
 "nbformat": 4,
 "nbformat_minor": 5
}
