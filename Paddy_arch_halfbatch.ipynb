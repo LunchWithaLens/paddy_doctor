{
 "cells": [
  {
   "cell_type": "markdown",
   "id": "5262f6e2-4bd3-404a-87d8-28b2c6c63568",
   "metadata": {},
   "source": [
    "At the end of this notebook, we will have submitted to the [\"Paddy Doctor: Paddy Disease Classification\" competition on Kaggle](https://www.kaggle.com/competitions/paddy-disease-classification/overview)!\n",
    "\n",
    "Let us begin by downloading the data."
   ]
  },
  {
   "cell_type": "code",
   "execution_count": 13,
   "id": "29285eea-16a5-47d7-936a-83dc26688e82",
   "metadata": {},
   "outputs": [
    {
     "name": "stdout",
     "output_type": "stream",
     "text": [
      "Reading package lists...\n",
      "Building dependency tree...\n",
      "Reading state information...\n",
      "unzip is already the newest version (6.0-21ubuntu1.1).\n",
      "0 upgraded, 0 newly installed, 0 to remove and 43 not upgraded.\n"
     ]
    },
    {
     "name": "stderr",
     "output_type": "stream",
     "text": [
      "\n",
      "WARNING: apt does not have a stable CLI interface. Use with caution in scripts.\n",
      "\n"
     ]
    }
   ],
   "source": [
    "%%bash\n",
    "\n",
    "exec bash\n",
    "# rm -rf data\n",
    "# mkdir data\n",
    "apt install unzip\n"
   ]
  },
  {
   "cell_type": "code",
   "execution_count": 1,
   "id": "c98a70a1-b120-4ea4-9840-3dd9b79a2180",
   "metadata": {},
   "outputs": [
    {
     "name": "stdout",
     "output_type": "stream",
     "text": [
      "Requirement already satisfied: timm in /opt/conda/lib/python3.7/site-packages (0.5.4)\n",
      "Requirement already satisfied: torch>=1.4 in /opt/conda/lib/python3.7/site-packages (from timm) (1.10.0)\n",
      "Requirement already satisfied: torchvision in /opt/conda/lib/python3.7/site-packages (from timm) (0.11.0)\n",
      "Requirement already satisfied: typing_extensions in /opt/conda/lib/python3.7/site-packages (from torch>=1.4->timm) (3.10.0.2)\n",
      "Requirement already satisfied: numpy in /opt/conda/lib/python3.7/site-packages (from torchvision->timm) (1.21.2)\n",
      "Requirement already satisfied: pillow!=8.3.0,>=5.3.0 in /opt/conda/lib/python3.7/site-packages (from torchvision->timm) (8.4.0)\n",
      "Note: you may need to restart the kernel to use updated packages.\n"
     ]
    }
   ],
   "source": [
    "pip install -U timm"
   ]
  },
  {
   "cell_type": "code",
   "execution_count": 15,
   "id": "4e350958-6493-4f35-b96b-75d9557837f5",
   "metadata": {},
   "outputs": [
    {
     "name": "stdout",
     "output_type": "stream",
     "text": [
      "paddy-disease-classification.zip: Skipping, found more recently modified local copy (use --force to force download)\n"
     ]
    }
   ],
   "source": [
    "!cd data && kaggle competitions download -c paddy-disease-classification && unzip -q paddy-disease-classification.zip"
   ]
  },
  {
   "cell_type": "code",
   "execution_count": 2,
   "id": "39827f00-23cd-4209-9bef-a9fa42f45f26",
   "metadata": {},
   "outputs": [],
   "source": [
    "import timm"
   ]
  },
  {
   "cell_type": "markdown",
   "id": "737bbc34-b0ea-4137-8260-a48d2c3fc156",
   "metadata": {},
   "source": [
    "We have now downloaded and extracted the data to the `data` directory."
   ]
  },
  {
   "cell_type": "code",
   "execution_count": 3,
   "id": "b7b72c68-b566-4e58-b235-3cefb216fd07",
   "metadata": {},
   "outputs": [
    {
     "name": "stdout",
     "output_type": "stream",
     "text": [
      "paddy-disease-classification.zip  \u001b[0m\u001b[01;34msubmissions\u001b[0m/  train.csv\n",
      "sample_submission.csv             \u001b[01;34mtest_images\u001b[0m/  \u001b[01;34mtrain_images\u001b[0m/\n"
     ]
    }
   ],
   "source": [
    "ls data"
   ]
  },
  {
   "cell_type": "code",
   "execution_count": 4,
   "id": "dd4b5884-0d0b-4383-b808-0faf2e37d5f7",
   "metadata": {},
   "outputs": [
    {
     "name": "stdout",
     "output_type": "stream",
     "text": [
      "\u001b[0m\u001b[01;34mbacterial_leaf_blight\u001b[0m/     \u001b[01;34mblast\u001b[0m/                       \u001b[01;34mdead_heart\u001b[0m/    \u001b[01;34mnormal\u001b[0m/\n",
      "\u001b[01;34mbacterial_leaf_streak\u001b[0m/     \u001b[01;34mbrown_spot\u001b[0m/                  \u001b[01;34mdowny_mildew\u001b[0m/  \u001b[01;34mtungro\u001b[0m/\n",
      "\u001b[01;34mbacterial_panicle_blight\u001b[0m/  convnext_large_in22k_squish  \u001b[01;34mhispa\u001b[0m/\n"
     ]
    }
   ],
   "source": [
    "ls data/train_images"
   ]
  },
  {
   "cell_type": "code",
   "execution_count": 5,
   "id": "1dd5e464-289d-43db-8062-1cd8d645ecd1",
   "metadata": {},
   "outputs": [
    {
     "name": "stdout",
     "output_type": "stream",
     "text": [
      "200001.jpg\n",
      "200002.jpg\n",
      "200003.jpg\n",
      "200004.jpg\n",
      "200005.jpg\n",
      "200006.jpg\n",
      "200007.jpg\n",
      "200008.jpg\n",
      "200009.jpg\n",
      "200010.jpg\n",
      "ls: write error: Broken pipe\n"
     ]
    }
   ],
   "source": [
    "ls data/test_images | head"
   ]
  },
  {
   "cell_type": "markdown",
   "id": "8ff65134-19f9-4dea-988d-25b95b3183bb",
   "metadata": {},
   "source": [
    "Seems that the train data is organized by directories, with the name of the directory being the label.\n",
    "\n",
    "Test images just live in `data/test_images`\n",
    "\n",
    "Let us see what is the format of the sample submission file to have a full picture."
   ]
  },
  {
   "cell_type": "code",
   "execution_count": 6,
   "id": "dd2493c2-1f74-459e-9bdc-80b9e10fbea0",
   "metadata": {},
   "outputs": [
    {
     "data": {
      "text/html": [
       "<div>\n",
       "<style scoped>\n",
       "    .dataframe tbody tr th:only-of-type {\n",
       "        vertical-align: middle;\n",
       "    }\n",
       "\n",
       "    .dataframe tbody tr th {\n",
       "        vertical-align: top;\n",
       "    }\n",
       "\n",
       "    .dataframe thead th {\n",
       "        text-align: right;\n",
       "    }\n",
       "</style>\n",
       "<table border=\"1\" class=\"dataframe\">\n",
       "  <thead>\n",
       "    <tr style=\"text-align: right;\">\n",
       "      <th></th>\n",
       "      <th>image_id</th>\n",
       "      <th>label</th>\n",
       "    </tr>\n",
       "  </thead>\n",
       "  <tbody>\n",
       "    <tr>\n",
       "      <th>0</th>\n",
       "      <td>200001.jpg</td>\n",
       "      <td>NaN</td>\n",
       "    </tr>\n",
       "    <tr>\n",
       "      <th>1</th>\n",
       "      <td>200002.jpg</td>\n",
       "      <td>NaN</td>\n",
       "    </tr>\n",
       "    <tr>\n",
       "      <th>2</th>\n",
       "      <td>200003.jpg</td>\n",
       "      <td>NaN</td>\n",
       "    </tr>\n",
       "    <tr>\n",
       "      <th>3</th>\n",
       "      <td>200004.jpg</td>\n",
       "      <td>NaN</td>\n",
       "    </tr>\n",
       "    <tr>\n",
       "      <th>4</th>\n",
       "      <td>200005.jpg</td>\n",
       "      <td>NaN</td>\n",
       "    </tr>\n",
       "  </tbody>\n",
       "</table>\n",
       "</div>"
      ],
      "text/plain": [
       "     image_id  label\n",
       "0  200001.jpg    NaN\n",
       "1  200002.jpg    NaN\n",
       "2  200003.jpg    NaN\n",
       "3  200004.jpg    NaN\n",
       "4  200005.jpg    NaN"
      ]
     },
     "execution_count": 6,
     "metadata": {},
     "output_type": "execute_result"
    }
   ],
   "source": [
    "import pandas as pd\n",
    "\n",
    "sample_sub = pd.read_csv('data/sample_submission.csv')\n",
    "sample_sub.head()"
   ]
  },
  {
   "cell_type": "markdown",
   "id": "e332bc06-ad58-4406-a6b8-4ccd363e9780",
   "metadata": {},
   "source": [
    "Mhmm. Guessing the labels for the submission are the names of the directories.\n",
    "\n",
    "Ok, let's start training!"
   ]
  },
  {
   "cell_type": "code",
   "execution_count": 7,
   "id": "f633cd8b-889e-44c7-bd5a-8c5cfc6f9e61",
   "metadata": {},
   "outputs": [],
   "source": [
    "from fastai.vision.all import *\n",
    "from fastcore.parallel import *"
   ]
  },
  {
   "cell_type": "code",
   "execution_count": 8,
   "id": "d9488140-2fe0-41d2-a177-e4e4ac100832",
   "metadata": {},
   "outputs": [],
   "source": [
    "path = Path('data')\n",
    "trn_path= path/'train_images'\n",
    "tst_files = get_image_files(path/'test_images').sorted()"
   ]
  },
  {
   "cell_type": "code",
   "execution_count": 9,
   "id": "9f3ae06b-438a-4ed0-ac85-127af9556328",
   "metadata": {},
   "outputs": [],
   "source": [
    "tta_res = []"
   ]
  },
  {
   "cell_type": "code",
   "execution_count": 10,
   "id": "e546f377-75b1-49fa-8ea0-b5d25bd710c1",
   "metadata": {},
   "outputs": [
    {
     "data": {
      "text/plain": [
       "Path('.')"
      ]
     },
     "execution_count": 10,
     "metadata": {},
     "output_type": "execute_result"
    }
   ],
   "source": [
    "Path()"
   ]
  },
  {
   "cell_type": "code",
   "execution_count": 11,
   "id": "dceea622-0d50-4e54-9ea0-1b500641d04b",
   "metadata": {},
   "outputs": [],
   "source": [
    "#def train(desc, arch, item, batch, accum=False):\n",
    "#    kwargs = {'bs':32} if accum else{}\n",
    "#    dls = ImageDataLoaders.from_folder(trn_path, valid_pct=0.2, item_tfms=item, batch_tfms=batch, **kwargs)\n",
    "#    cbs = GradientAccumulation(2) if accum else []\n",
    "#    learn = vision_learner(dls, arch, metrics=error_rate, cbs=cbs).to_fp16()\n",
    "#    learn.fine_tune(12, 0.01)\n",
    "#    tta_res.append(learn.tta(dl=dls.test_dl(tst_files)))\n",
    "#    learn.export(f'{arch}_{desc}')"
   ]
  },
  {
   "cell_type": "code",
   "execution_count": 12,
   "id": "fb5c81a4-e158-439c-94c0-1925ea0cacb1",
   "metadata": {},
   "outputs": [],
   "source": [
    "arch = 'convnext_large_in22k'"
   ]
  },
  {
   "cell_type": "code",
   "execution_count": 13,
   "id": "d66ff7b1-02a2-4132-a7a2-e26906e97150",
   "metadata": {},
   "outputs": [],
   "source": [
    "dls = ImageDataLoaders.from_folder(trn_path, valid_pct=0.2, \n",
    "   item_tfms=Resize(480, method='squish'), batch_tfms=aug_transforms(size=224, min_scale=0.75), bs=32, accum=True)\n",
    "\n",
    "tst_dl = dls.test_dl(tst_files)"
   ]
  },
  {
   "cell_type": "code",
   "execution_count": 14,
   "id": "8056b9ec-434e-43c9-88d9-0bc444ce2de1",
   "metadata": {},
   "outputs": [
    {
     "data": {
      "text/html": [
       "<table border=\"1\" class=\"dataframe\">\n",
       "  <thead>\n",
       "    <tr style=\"text-align: left;\">\n",
       "      <th>epoch</th>\n",
       "      <th>train_loss</th>\n",
       "      <th>valid_loss</th>\n",
       "      <th>error_rate</th>\n",
       "      <th>time</th>\n",
       "    </tr>\n",
       "  </thead>\n",
       "  <tbody>\n",
       "    <tr>\n",
       "      <td>0</td>\n",
       "      <td>0.788541</td>\n",
       "      <td>0.522027</td>\n",
       "      <td>0.170111</td>\n",
       "      <td>05:53</td>\n",
       "    </tr>\n",
       "  </tbody>\n",
       "</table>"
      ],
      "text/plain": [
       "<IPython.core.display.HTML object>"
      ]
     },
     "metadata": {},
     "output_type": "display_data"
    }
   ],
   "source": [
    "learn = vision_learner(dls, arch, metrics=error_rate).to_fp16()\n",
    "learn.fit_one_cycle(1)"
   ]
  },
  {
   "cell_type": "code",
   "execution_count": null,
   "id": "9bdd592e-54c1-4676-9dc5-e54868a7125f",
   "metadata": {},
   "outputs": [],
   "source": [
    "learn = vision_learner(dls, arch, metrics=error_rate).to_fp16()\n",
    "learn.fine_tune(12, 0.01)\n",
    "learn.export('cn_sml_12')"
   ]
  },
  {
   "cell_type": "code",
   "execution_count": null,
   "id": "ec3a0c94-91de-429d-9ac5-f75572d92594",
   "metadata": {},
   "outputs": [],
   "source": []
  },
  {
   "cell_type": "code",
   "execution_count": 23,
   "id": "7019a351-c398-4eaf-a37c-0f9dbc21993f",
   "metadata": {},
   "outputs": [],
   "source": [
    "test_dl = learn.dls.test_dl(get_image_files('data/test_images'))"
   ]
  },
  {
   "cell_type": "code",
   "execution_count": 24,
   "id": "5bf7f437-ccda-47f1-b2bc-1a121982880a",
   "metadata": {},
   "outputs": [
    {
     "data": {
      "text/html": [],
      "text/plain": [
       "<IPython.core.display.HTML object>"
      ]
     },
     "metadata": {},
     "output_type": "display_data"
    }
   ],
   "source": [
    "test_preds = learn.get_preds(dl=test_dl)"
   ]
  },
  {
   "cell_type": "code",
   "execution_count": 25,
   "id": "ccd64da5-ea21-4ff3-a4b5-993e0195d36c",
   "metadata": {},
   "outputs": [
    {
     "data": {
      "text/html": [
       "<div>\n",
       "<style scoped>\n",
       "    .dataframe tbody tr th:only-of-type {\n",
       "        vertical-align: middle;\n",
       "    }\n",
       "\n",
       "    .dataframe tbody tr th {\n",
       "        vertical-align: top;\n",
       "    }\n",
       "\n",
       "    .dataframe thead th {\n",
       "        text-align: right;\n",
       "    }\n",
       "</style>\n",
       "<table border=\"1\" class=\"dataframe\">\n",
       "  <thead>\n",
       "    <tr style=\"text-align: right;\">\n",
       "      <th></th>\n",
       "      <th>image_id</th>\n",
       "      <th>label</th>\n",
       "    </tr>\n",
       "  </thead>\n",
       "  <tbody>\n",
       "    <tr>\n",
       "      <th>0</th>\n",
       "      <td>200001.jpg</td>\n",
       "      <td>NaN</td>\n",
       "    </tr>\n",
       "    <tr>\n",
       "      <th>1</th>\n",
       "      <td>200002.jpg</td>\n",
       "      <td>NaN</td>\n",
       "    </tr>\n",
       "    <tr>\n",
       "      <th>2</th>\n",
       "      <td>200003.jpg</td>\n",
       "      <td>NaN</td>\n",
       "    </tr>\n",
       "    <tr>\n",
       "      <th>3</th>\n",
       "      <td>200004.jpg</td>\n",
       "      <td>NaN</td>\n",
       "    </tr>\n",
       "    <tr>\n",
       "      <th>4</th>\n",
       "      <td>200005.jpg</td>\n",
       "      <td>NaN</td>\n",
       "    </tr>\n",
       "    <tr>\n",
       "      <th>...</th>\n",
       "      <td>...</td>\n",
       "      <td>...</td>\n",
       "    </tr>\n",
       "    <tr>\n",
       "      <th>3464</th>\n",
       "      <td>203465.jpg</td>\n",
       "      <td>NaN</td>\n",
       "    </tr>\n",
       "    <tr>\n",
       "      <th>3465</th>\n",
       "      <td>203466.jpg</td>\n",
       "      <td>NaN</td>\n",
       "    </tr>\n",
       "    <tr>\n",
       "      <th>3466</th>\n",
       "      <td>203467.jpg</td>\n",
       "      <td>NaN</td>\n",
       "    </tr>\n",
       "    <tr>\n",
       "      <th>3467</th>\n",
       "      <td>203468.jpg</td>\n",
       "      <td>NaN</td>\n",
       "    </tr>\n",
       "    <tr>\n",
       "      <th>3468</th>\n",
       "      <td>203469.jpg</td>\n",
       "      <td>NaN</td>\n",
       "    </tr>\n",
       "  </tbody>\n",
       "</table>\n",
       "<p>3469 rows × 2 columns</p>\n",
       "</div>"
      ],
      "text/plain": [
       "        image_id  label\n",
       "0     200001.jpg    NaN\n",
       "1     200002.jpg    NaN\n",
       "2     200003.jpg    NaN\n",
       "3     200004.jpg    NaN\n",
       "4     200005.jpg    NaN\n",
       "...          ...    ...\n",
       "3464  203465.jpg    NaN\n",
       "3465  203466.jpg    NaN\n",
       "3466  203467.jpg    NaN\n",
       "3467  203468.jpg    NaN\n",
       "3468  203469.jpg    NaN\n",
       "\n",
       "[3469 rows x 2 columns]"
      ]
     },
     "execution_count": 25,
     "metadata": {},
     "output_type": "execute_result"
    }
   ],
   "source": [
    "sample_sub"
   ]
  },
  {
   "cell_type": "code",
   "execution_count": 26,
   "id": "1fbb4eaf-ae4a-41df-bfc0-88f1e9f28ba6",
   "metadata": {},
   "outputs": [
    {
     "data": {
      "text/plain": [
       "(#3469) [Path('data/test_images/200770.jpg'),Path('data/test_images/203307.jpg'),Path('data/test_images/203265.jpg'),Path('data/test_images/201796.jpg'),Path('data/test_images/202973.jpg'),Path('data/test_images/201780.jpg'),Path('data/test_images/201052.jpg'),Path('data/test_images/201179.jpg'),Path('data/test_images/201783.jpg'),Path('data/test_images/200080.jpg')...]"
      ]
     },
     "execution_count": 26,
     "metadata": {},
     "output_type": "execute_result"
    }
   ],
   "source": [
    "get_image_files('data/test_images')"
   ]
  },
  {
   "cell_type": "code",
   "execution_count": 27,
   "id": "64729a5d-e06f-4a54-859a-145614657d78",
   "metadata": {},
   "outputs": [],
   "source": [
    "predicted_classes = [learn.dls.train_ds.vocab[i] for i in test_preds[0].argmax(1)]"
   ]
  },
  {
   "cell_type": "code",
   "execution_count": 28,
   "id": "34151fa1-face-45cf-bbed-891ea96d9f6e",
   "metadata": {},
   "outputs": [
    {
     "data": {
      "text/plain": [
       "['bacterial_leaf_streak',\n",
       " 'blast',\n",
       " 'dead_heart',\n",
       " 'bacterial_leaf_blight',\n",
       " 'downy_mildew',\n",
       " 'hispa',\n",
       " 'brown_spot',\n",
       " 'tungro',\n",
       " 'normal',\n",
       " 'dead_heart']"
      ]
     },
     "execution_count": 28,
     "metadata": {},
     "output_type": "execute_result"
    }
   ],
   "source": [
    "predicted_classes[:10]"
   ]
  },
  {
   "cell_type": "markdown",
   "id": "2a595254-a56f-4ae3-9282-c0de850ade7f",
   "metadata": {},
   "source": [
    "And the last thing we need to output predictions are file names."
   ]
  },
  {
   "cell_type": "code",
   "execution_count": 29,
   "id": "5c5954b9-b4b8-45d7-953f-ae318deaeaca",
   "metadata": {},
   "outputs": [],
   "source": [
    "fns = [p.name for p in get_image_files('data/test_images')]"
   ]
  },
  {
   "cell_type": "code",
   "execution_count": 30,
   "id": "f9b75f7f-f47c-412d-8517-cf39e762ac95",
   "metadata": {},
   "outputs": [],
   "source": [
    "sub = pd.DataFrame(data={'image_id': fns, 'label': predicted_classes})"
   ]
  },
  {
   "cell_type": "code",
   "execution_count": null,
   "id": "0b262399-baf7-4d9b-9239-c63e30c0fd7f",
   "metadata": {},
   "outputs": [],
   "source": [
    "# mkdir data/submissions"
   ]
  },
  {
   "cell_type": "code",
   "execution_count": 31,
   "id": "a297834f-b4af-4f2b-8fa1-a533f2d6c40e",
   "metadata": {},
   "outputs": [],
   "source": [
    "sub.to_csv('data/submissions/brismith_sub2_vit.csv.gz', index=False)"
   ]
  },
  {
   "cell_type": "code",
   "execution_count": 32,
   "id": "90ec0c02-eba4-4d7e-b7ab-a2c6c4ae1b67",
   "metadata": {},
   "outputs": [
    {
     "name": "stdout",
     "output_type": "stream",
     "text": [
      "Warning: Your Kaggle API key is readable by other users on this system! To fix this, you can run 'chmod 600 /root/.kaggle/kaggle.json'\n",
      "Traceback (most recent call last):\n",
      "  File \"/root/.local/bin/kaggle\", line 8, in <module>\n",
      "    sys.exit(main())\n",
      "  File \"/root/.local/lib/python3.7/site-packages/kaggle/cli.py\", line 67, in main\n",
      "    out = args.func(**command_args)\n",
      "  File \"/root/.local/lib/python3.7/site-packages/kaggle/api/kaggle_api_extended.py\", line 562, in competition_submit_cli\n",
      "    competition, quiet)\n",
      "  File \"/root/.local/lib/python3.7/site-packages/kaggle/api/kaggle_api_extended.py\", line 513, in competition_submit\n",
      "    content_length=os.path.getsize(file_name),\n",
      "  File \"/opt/conda/lib/python3.7/genericpath.py\", line 50, in getsize\n",
      "    return os.stat(filename).st_size\n",
      "FileNotFoundError: [Errno 2] No such file or directory: 'data/submissions/brismith_sub1.csv.gz'\n"
     ]
    }
   ],
   "source": [
    "!kaggle competitions submit -c paddy-disease-classification -f data/submissions/brismith_sub1.csv.gz -m \"2nd sub vit walkthru11\""
   ]
  },
  {
   "cell_type": "code",
   "execution_count": 33,
   "id": "cf21648a-dc1c-4086-a43a-b76c03bf76d3",
   "metadata": {},
   "outputs": [
    {
     "name": "stdout",
     "output_type": "stream",
     "text": [
      "Warning: Your Kaggle API key is readable by other users on this system! To fix this, you can run 'chmod 600 /root/.kaggle/kaggle.json'\n",
      "100%|██████████████████████████████████████| 11.7k/11.7k [00:00<00:00, 24.9kB/s]\n",
      "Successfully submitted to Paddy Doctor: Paddy Disease Classification"
     ]
    }
   ],
   "source": [
    "!kaggle competitions submit -c paddy-disease-classification -f data/submissions/brismith_sub2_vit.csv.gz -m \"2nd sub vit walkthru11\""
   ]
  },
  {
   "cell_type": "code",
   "execution_count": null,
   "id": "bc0d4604-d9ae-42ec-b9c2-8d1e492d1100",
   "metadata": {},
   "outputs": [],
   "source": []
  }
 ],
 "metadata": {
  "kernelspec": {
   "display_name": "Python 3 (ipykernel)",
   "language": "python",
   "name": "python3"
  },
  "language_info": {
   "codemirror_mode": {
    "name": "ipython",
    "version": 3
   },
   "file_extension": ".py",
   "mimetype": "text/x-python",
   "name": "python",
   "nbconvert_exporter": "python",
   "pygments_lexer": "ipython3",
   "version": "3.7.11"
  }
 },
 "nbformat": 4,
 "nbformat_minor": 5
}
